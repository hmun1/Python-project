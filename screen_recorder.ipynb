{
 "cells": [
  {
   "cell_type": "markdown",
   "metadata": {},
   "source": [
    "# To make screen recorder we need to install some library \n",
    "\n",
    "#pip intall opencv-python       for capturing frames from the screen, processing them, and encoding them into video format.\n",
    "\n",
    "#pip install pywin32            for capturing screen regions on Windows platforms.\n",
    "\n",
    "#pip install numpy\n",
    "\n",
    "#pip install pyautogui          for controlling the mouse and keyboard to automate tasks, which is useful for interacting with the screen during screen recording.\n"
   ]
  },
  {
   "cell_type": "code",
   "execution_count": 12,
   "metadata": {},
   "outputs": [],
   "source": [
    "import cv2\n",
    "import numpy as np\n",
    "import pyautogui\n",
    "from win32api import GetSystemMetrics\n",
    "import time"
   ]
  },
  {
   "cell_type": "code",
   "execution_count": 13,
   "metadata": {},
   "outputs": [],
   "source": [
    "#screen resolation\n",
    "\n",
    "width = GetSystemMetrics(0)\n",
    "heigth = GetSystemMetrics(1)\n",
    "dimensions = (width, heigth)"
   ]
  },
  {
   "cell_type": "code",
   "execution_count": 16,
   "metadata": {},
   "outputs": [],
   "source": [
    "# Define the codec and create VideoWriter object\n",
    "f = cv2.VideoWriter_fourcc(*\"XVID\")\n",
    "output = cv2.VideoWriter(\"demo.mp4\", f, 30.0, dimensions)\n",
    "now_time = time.time()\n",
    "duration = 15 + 5          # video time duration is 15 second  and etra time for compliation\n",
    "end_time = now_time + duration"
   ]
  },
  {
   "cell_type": "code",
   "execution_count": 17,
   "metadata": {},
   "outputs": [
    {
     "name": "stdout",
     "output_type": "stream",
     "text": [
      "-----End Capturing and video is ready------\n"
     ]
    }
   ],
   "source": [
    "while True:\n",
    "    image = pyautogui.screenshot()   #taking screenshot to amke video\n",
    "    frame = np.array(image)          #all image are stored in one object by using array\n",
    "    frame_1 = cv2.cvtColor(frame, cv2.COLOR_BGR2RGB)         #convert the color into original color format\n",
    "    output.write(frame_1) \n",
    "    current_time = time.time()\n",
    "    if current_time > end_time:\n",
    "        break\n",
    "output.release()\n",
    "print(\"-----End Capturing and video is ready------\")"
   ]
  }
 ],
 "metadata": {
  "kernelspec": {
   "display_name": "Python 3",
   "language": "python",
   "name": "python3"
  },
  "language_info": {
   "codemirror_mode": {
    "name": "ipython",
    "version": 3
   },
   "file_extension": ".py",
   "mimetype": "text/x-python",
   "name": "python",
   "nbconvert_exporter": "python",
   "pygments_lexer": "ipython3",
   "version": "3.12.0"
  }
 },
 "nbformat": 4,
 "nbformat_minor": 2
}
